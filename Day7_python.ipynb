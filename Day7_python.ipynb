{
 "cells": [
  {
   "cell_type": "code",
   "execution_count": 19,
   "metadata": {},
   "outputs": [],
   "source": [
    "age=16"
   ]
  },
  {
   "cell_type": "code",
   "execution_count": 21,
   "metadata": {},
   "outputs": [
    {
     "name": "stdout",
     "output_type": "stream",
     "text": [
      "you not eleigle for applying voter id, please apply it when you age is 18\n"
     ]
    }
   ],
   "source": [
    "if age >=18 :\n",
    "    print(\"you are eleigle for applying the voter id\")\n",
    "else :\n",
    "    print(\"you not eleigle for applying voter id, please apply it when you age is 18\")"
   ]
  },
  {
   "cell_type": "markdown",
   "metadata": {},
   "source": [
    "\n"
   ]
  },
  {
   "cell_type": "code",
   "execution_count": 23,
   "metadata": {},
   "outputs": [],
   "source": [
    "age=20"
   ]
  },
  {
   "cell_type": "code",
   "execution_count": 24,
   "metadata": {},
   "outputs": [
    {
     "name": "stdout",
     "output_type": "stream",
     "text": [
      "you are eleigle for applying the voter id\n"
     ]
    }
   ],
   "source": [
    "if age >=18 :\n",
    "    print(\"you are eleigle for applying the voter id\")\n",
    "else :\n",
    "    print(\"you not eleigle for applying voter id, please apply it when you age is 18\")"
   ]
  },
  {
   "cell_type": "code",
   "execution_count": 25,
   "metadata": {},
   "outputs": [],
   "source": [
    "age=2"
   ]
  },
  {
   "cell_type": "code",
   "execution_count": 38,
   "metadata": {},
   "outputs": [
    {
     "name": "stdout",
     "output_type": "stream",
     "text": [
      "baby will be able to crawl\n"
     ]
    }
   ],
   "source": [
    "if age==2:\n",
    "    print(\"baby will be able to crawl\")\n",
    "elif age==3:\n",
    "    print (\"baby will be able to stand\")\n",
    "elif age==4:\n",
    "    print(\"baby will be able to walk\")\n",
    "else:\n",
    "    print(\"baby will be able to run \")"
   ]
  },
  {
   "cell_type": "code",
   "execution_count": 40,
   "metadata": {},
   "outputs": [],
   "source": [
    "age=5"
   ]
  },
  {
   "cell_type": "code",
   "execution_count": 41,
   "metadata": {},
   "outputs": [
    {
     "name": "stdout",
     "output_type": "stream",
     "text": [
      "baby will be able to run \n"
     ]
    }
   ],
   "source": [
    "if age==2:\n",
    "    print(\"baby will be able to crawl\")\n",
    "elif age==3:\n",
    "    print (\"baby will be able to stand\")\n",
    "elif age==4:\n",
    "    print(\"baby will be able to walk\")\n",
    "else:\n",
    "    print(\"baby will be able to run \")"
   ]
  },
  {
   "cell_type": "code",
   "execution_count": null,
   "metadata": {},
   "outputs": [],
   "source": []
  }
 ],
 "metadata": {
  "kernelspec": {
   "display_name": "Python 3",
   "language": "python",
   "name": "python3"
  },
  "language_info": {
   "codemirror_mode": {
    "name": "ipython",
    "version": 3
   },
   "file_extension": ".py",
   "mimetype": "text/x-python",
   "name": "python",
   "nbconvert_exporter": "python",
   "pygments_lexer": "ipython3",
   "version": "3.7.3"
  }
 },
 "nbformat": 4,
 "nbformat_minor": 2
}
