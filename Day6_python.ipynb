{
 "cells": [
  {
   "cell_type": "code",
   "execution_count": 1,
   "metadata": {},
   "outputs": [],
   "source": [
    "fruits=['banana','manago','apple','pineapple','orange','grapes']"
   ]
  },
  {
   "cell_type": "code",
   "execution_count": 9,
   "metadata": {},
   "outputs": [
    {
     "name": "stdout",
     "output_type": "stream",
     "text": [
      "Apple is very tasty to eat\n"
     ]
    }
   ],
   "source": [
    "print(F\"{fruits[2].title()} is very tasty to eat\")"
   ]
  },
  {
   "cell_type": "code",
   "execution_count": 16,
   "metadata": {},
   "outputs": [
    {
     "name": "stdout",
     "output_type": "stream",
     "text": [
      "Banana is very tasty to eat. \n",
      "\n",
      "Manago is very tasty to eat. \n",
      "\n",
      "Apple is very tasty to eat. \n",
      "\n",
      "Pineapple is very tasty to eat. \n",
      "\n",
      "Orange is very tasty to eat. \n",
      "\n",
      "Grapes is very tasty to eat. \n",
      "\n"
     ]
    }
   ],
   "source": [
    "for fruit in fruits:\n",
    "    print(F\"{fruit.title()} is very tasty to eat. \\n\")"
   ]
  },
  {
   "cell_type": "code",
   "execution_count": 17,
   "metadata": {},
   "outputs": [
    {
     "name": "stdout",
     "output_type": "stream",
     "text": [
      "Banana is very tasty to eat. \n",
      "\n",
      "Manago is very tasty to eat. \n",
      "\n",
      "Apple is very tasty to eat. \n",
      "\n",
      "Pineapple is very tasty to eat. \n",
      "\n",
      "Orange is very tasty to eat. \n",
      "\n",
      "Grapes is very tasty to eat. \n",
      "\n"
     ]
    }
   ],
   "source": [
    "for x in fruits:\n",
    "    print(F\"{x.title()} is very tasty to eat. \\n\")"
   ]
  },
  {
   "cell_type": "code",
   "execution_count": null,
   "metadata": {},
   "outputs": [],
   "source": []
  },
  {
   "cell_type": "code",
   "execution_count": null,
   "metadata": {},
   "outputs": [],
   "source": []
  },
  {
   "cell_type": "code",
   "execution_count": null,
   "metadata": {},
   "outputs": [],
   "source": []
  },
  {
   "cell_type": "code",
   "execution_count": null,
   "metadata": {},
   "outputs": [],
   "source": []
  }
 ],
 "metadata": {
  "kernelspec": {
   "display_name": "Python 3",
   "language": "python",
   "name": "python3"
  },
  "language_info": {
   "codemirror_mode": {
    "name": "ipython",
    "version": 3
   },
   "file_extension": ".py",
   "mimetype": "text/x-python",
   "name": "python",
   "nbconvert_exporter": "python",
   "pygments_lexer": "ipython3",
   "version": "3.7.3"
  }
 },
 "nbformat": 4,
 "nbformat_minor": 2
}
